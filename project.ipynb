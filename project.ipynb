{
 "cells": [
  {
   "cell_type": "code",
   "execution_count": 30,
   "metadata": {},
   "outputs": [],
   "source": [
    "import sklearn\n",
    "import netCDF4\n",
    "import numpy as np\n",
    "import matplotlib.pyplot as plt"
   ]
  },
  {
   "cell_type": "code",
   "execution_count": 4,
   "metadata": {},
   "outputs": [],
   "source": [
    "temp_data = netCDF4.Dataset(\"data/erai_t2m_daily.nc\")  # 'temp' as in 'temperature'"
   ]
  },
  {
   "cell_type": "code",
   "execution_count": 173,
   "metadata": {},
   "outputs": [],
   "source": [
    "sep = 2\n",
    "\n",
    "def get_fine_data(t):\n",
    "    return np.array(temp_data.variables[\"t2m\"][t, ::-1, :])\n",
    "\n",
    "def get_coarse_data(t):\n",
    "    return np.array(temp_data.variables[\"t2m\"][t, ::-1 * sep, ::sep])\n",
    "\n",
    "\n",
    "def plot_data(data, cmap=plt.get_cmap('jet')):\n",
    "    plt.pcolormesh(data, cmap=cmap)\n",
    "    \n",
    "    \n",
    "def rms(p_data, f_data):\n",
    "    return np.sqrt(np.sum((p_data - f_data) ** 2))\n",
    "\n",
    "f_shape = get_fine_data(0).shape"
   ]
  },
  {
   "cell_type": "code",
   "execution_count": 174,
   "metadata": {},
   "outputs": [],
   "source": [
    "def zero_func(x, y, c_data):\n",
    "    if not y % sep and not x % sep:  # Known data\n",
    "        return c_data[y // sep, x // sep]\n",
    "    else:\n",
    "        return 0\n",
    "    \n",
    "def mean_func(x, y, c_data):\n",
    "    if not y % sep and not x % sep:  # Known data\n",
    "        return c_data[y // sep, x // sep]\n",
    "    elif y % sep and not x % sep:\n",
    "        return 0.5 * (c_data[(y - 1) // 2, x // 2] + c_data[(y + 1) // 2, x // 2])\n",
    "    elif not y % sep and x % sep:\n",
    "        return 0.5 * (c_data[y // 2, (x - 1) // 2] + c_data[y // 2, (x + 1) // 2])\n",
    "    else:\n",
    "        return 0.25 * (c_data[(y - 1) // 2, (x - 1) // 2] + c_data[(y - 1) // 2, (x + 1) // 2] +\n",
    "                       c_data[(y + 1) // 2, (x - 1) // 2] + c_data[(y + 1) // 2, (x + 1) // 2])\n",
    "\n",
    "def local_interpolater(interpolate_func):\n",
    "    def local_interpolater_inner(c_data):\n",
    "        return_data = np.empty(f_shape, dtype=np.float32)\n",
    "        for y in range(f_shape[0]):\n",
    "            for x in range(f_shape[1]):\n",
    "                return_data[y, x] = interpolate_func(x, y, c_data)\n",
    "        return return_data\n",
    "    return local_interpolater_inner\n",
    "\n",
    "separate_data = local_interpolater(zero_func)\n",
    "average_data = local_interpolater(mean_func)"
   ]
  },
  {
   "cell_type": "code",
   "execution_count": 158,
   "metadata": {},
   "outputs": [],
   "source": [
    "fine_data = get_fine_data(0)\n",
    "coarse_data = get_coarse_data(0)"
   ]
  },
  {
   "cell_type": "code",
   "execution_count": 153,
   "metadata": {},
   "outputs": [
    {
     "data": {
      "text/plain": [
       "188.37268"
      ]
     },
     "execution_count": 153,
     "metadata": {},
     "output_type": "execute_result"
    }
   ],
   "source": [
    "averaged_data = average_data(coarse_data)\n",
    "prepare_fine_data_for_average\n",
    "rms(averaged_data, fine_data)"
   ]
  },
  {
   "cell_type": "code",
   "execution_count": 162,
   "metadata": {},
   "outputs": [
    {
     "data": {
      "text/plain": [
       "masked_array(\n",
       "  data=[[256.4365234375, 256.421875, 256.408203125, ..., 256.45751953125,\n",
       "         256.45068359375, 256.443359375],\n",
       "        [257.400390625, 257.365234375, 257.330078125, ...,\n",
       "         257.49267578125, 257.4619140625, 257.4306640625],\n",
       "        [256.9931640625, 256.9287109375, 256.8642578125, ...,\n",
       "         257.22509765625, 257.1474609375, 257.0703125],\n",
       "        ...,\n",
       "        [244.03663635253906, 243.95118713378906, 243.86622619628906, ...,\n",
       "         244.11378479003906, 244.08741760253906, 244.06202697753906],\n",
       "        [243.59425354003906, 243.55323791503906, 243.51319885253906, ...,\n",
       "         243.68849182128906, 243.65724182128906, 243.62550354003906],\n",
       "        [244.12794494628906, 244.11573791503906, 244.10450744628906, ...,\n",
       "         244.17189025878906, 244.15724182128906, 244.14259338378906]],\n",
       "  mask=[[False, False, False, ..., False, False, False],\n",
       "        [False, False, False, ..., False, False, False],\n",
       "        [False, False, False, ..., False, False, False],\n",
       "        ...,\n",
       "        [False, False, False, ..., False, False, False],\n",
       "        [False, False, False, ..., False, False, False],\n",
       "        [False, False, False, ..., False, False, False]],\n",
       "  fill_value=9.96921e+36,\n",
       "  dtype=float32)"
      ]
     },
     "execution_count": 162,
     "metadata": {},
     "output_type": "execute_result"
    }
   ],
   "source": [
    "sep = 2\n",
    "temp_data.variables[\"t2m\"][0, ::-1*sep, ::sep]"
   ]
  },
  {
   "cell_type": "code",
   "execution_count": 164,
   "metadata": {},
   "outputs": [
    {
     "data": {
      "text/plain": [
       "masked_array(\n",
       "  data=[[256.4365234375, 256.4296875, 256.421875, ..., 256.4462890625,\n",
       "         256.443359375, 256.43994140625],\n",
       "        [257.0439453125, 257.02978515625, 257.01611328125, ...,\n",
       "         257.0634765625, 257.056640625, 257.05029296875],\n",
       "        [257.400390625, 257.3828125, 257.365234375, ..., 257.4462890625,\n",
       "         257.4306640625, 257.4150390625],\n",
       "        ...,\n",
       "        [243.81739807128906, 243.80226135253906, 243.78761291503906, ...,\n",
       "         243.85450744628906, 243.84181213378906, 243.82960510253906],\n",
       "        [244.12794494628906, 244.12208557128906, 244.11573791503906, ...,\n",
       "         244.15040588378906, 244.14259338378906, 244.13526916503906],\n",
       "        [244.40187072753906, 244.40040588378906, 244.39845275878906, ...,\n",
       "         244.41358947753906, 244.40968322753906, 244.40577697753906]],\n",
       "  mask=[[False, False, False, ..., False, False, False],\n",
       "        [False, False, False, ..., False, False, False],\n",
       "        [False, False, False, ..., False, False, False],\n",
       "        ...,\n",
       "        [False, False, False, ..., False, False, False],\n",
       "        [False, False, False, ..., False, False, False],\n",
       "        [False, False, False, ..., False, False, False]],\n",
       "  fill_value=9.96921e+36,\n",
       "  dtype=float32)"
      ]
     },
     "execution_count": 164,
     "metadata": {},
     "output_type": "execute_result"
    }
   ],
   "source": [
    "temp_data.variables[\"t2m\"][0, ::-1, :]"
   ]
  },
  {
   "cell_type": "code",
   "execution_count": 170,
   "metadata": {},
   "outputs": [
    {
     "data": {
      "text/plain": [
       "(array([254], dtype=int64), array([510], dtype=int64))"
      ]
     },
     "execution_count": 170,
     "metadata": {},
     "output_type": "execute_result"
    }
   ],
   "source": [
    " np.where(temp_data.variables[\"t2m\"][0, ::-1, :] == 244.14259338378906)"
   ]
  },
  {
   "cell_type": "code",
   "execution_count": 171,
   "metadata": {},
   "outputs": [],
   "source": [
    "x = temp_data.variables[\"t2m\"][0]"
   ]
  },
  {
   "cell_type": "code",
   "execution_count": null,
   "metadata": {},
   "outputs": [],
   "source": []
  }
 ],
 "metadata": {
  "kernelspec": {
   "display_name": "Python 3",
   "language": "python",
   "name": "python3"
  },
  "language_info": {
   "codemirror_mode": {
    "name": "ipython",
    "version": 3
   },
   "file_extension": ".py",
   "mimetype": "text/x-python",
   "name": "python",
   "nbconvert_exporter": "python",
   "pygments_lexer": "ipython3",
   "version": "3.6.5"
  }
 },
 "nbformat": 4,
 "nbformat_minor": 2
}
